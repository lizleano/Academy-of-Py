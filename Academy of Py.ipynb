{
 "cells": [
  {
   "cell_type": "markdown",
   "metadata": {},
   "source": [
    "# Py City School Analysis\n",
    "\n",
    "This is an analysis to help determine school performance based on student's math and reading scores across schools within the district. It will analyze test scores, school size, and budget.  It will include both district and charter schools.  The goal is to summarize obvious trends that will help in assessing future school budgets and priorities. \n",
    "\n",
    "### Trends\n",
    "\n",
    "1. There are 15 schools that were included in this study which comprised of 8 charter schools and 7 district schools.\n",
    "2. The current average budget per school is $1,643,295.30.\n",
    "3. There are significantly more students in district schools versus charter schools.\n",
    "4. It costs more per student to educate a child in a district school.\n",
    "5. On the average, students in charter schools score higher in Math and Science than those in the district schools.\n",
    "6. Student's overall performance are significantly better in charter schools (95%) than those in district schools (76%) \n",
    "7. The top 5 performing schools are all charter schools and the bottom 5 performing schools are all district schools\n",
    "\n",
    "### Summary\n",
    "\n",
    "The study shows that on average, students in the charter schools perform significantly better that those that attended the district schools. Trends show that the cost per student does not signify better performance.  It does show, though, that the student's performance fair much better in smaller school sizes.\n",
    "\n"
   ]
  },
  {
   "cell_type": "code",
   "execution_count": 204,
   "metadata": {
    "collapsed": true,
    "scrolled": true
   },
   "outputs": [],
   "source": [
    "import pandas as pd\n",
    "import numpy as np\n",
    "import locale\n",
    "\n",
    "locale.setlocale(locale.LC_ALL, 'en-US')\n",
    "\n",
    "# declare path for student file\n",
    "student_file = \"Resources/students_complete.csv\"\n",
    "\n",
    "# declare path for school file\n",
    "school_file = \"Resources/schools_complete.csv\"\n",
    "\n",
    "#open files\n",
    "student_pd = pd.read_csv(student_file)\n",
    "school_pd = pd.read_csv(school_file)\n",
    "\n",
    "school_pd.columns\n",
    "\n",
    "# Rename columns for readability\n",
    "renamed_school_pd = school_pd.rename(columns={\n",
    "    \"name\": \"School Name\",\n",
    "    \"type\": \"School Type\"\n",
    "})\n"
   ]
  },
  {
   "cell_type": "code",
   "execution_count": 205,
   "metadata": {
    "collapsed": true,
    "scrolled": true
   },
   "outputs": [],
   "source": [
    "#renamed columns for merging\n",
    "renamed_student_pd = student_pd.rename(columns={\n",
    "    \"name\": \"Student Name\",\n",
    "    \"school\" : \"School Name\"\n",
    "})"
   ]
  },
  {
   "cell_type": "markdown",
   "metadata": {},
   "source": [
    "# District Summary"
   ]
  },
  {
   "cell_type": "code",
   "execution_count": 206,
   "metadata": {
    "collapsed": true
   },
   "outputs": [],
   "source": [
    "# get total schools\n",
    "totalSchools = renamed_school_pd['School Name'].count()\n",
    "df = pd.DataFrame([totalSchools], columns=['Total Schools'])"
   ]
  },
  {
   "cell_type": "code",
   "execution_count": 207,
   "metadata": {
    "collapsed": true
   },
   "outputs": [],
   "source": [
    "# get total students\n",
    "totalStudents = renamed_student_pd['School Name'].count()\n",
    "df[\"Total Students\"] = locale.format(\"%d\", totalStudents, grouping=True)\n",
    "# df"
   ]
  },
  {
   "cell_type": "code",
   "execution_count": 208,
   "metadata": {
    "collapsed": true
   },
   "outputs": [],
   "source": [
    "# total school budget\n",
    "totalBudget = np.round(pd.to_numeric(renamed_school_pd['budget']).sum(), decimals=2)\n",
    "# totalBudget\n",
    "df[\"Total Budget\"] = locale.currency(totalBudget, grouping=True)"
   ]
  },
  {
   "cell_type": "code",
   "execution_count": 209,
   "metadata": {
    "collapsed": true
   },
   "outputs": [],
   "source": [
    "# average math score\n",
    "averageMathScore = renamed_student_pd[\"math_score\"].mean()\n",
    "df[\"Average Math Score\"] = averageMathScore"
   ]
  },
  {
   "cell_type": "code",
   "execution_count": 210,
   "metadata": {
    "collapsed": true
   },
   "outputs": [],
   "source": [
    "# average reading score\n",
    "averageReadingScore = renamed_student_pd[\"reading_score\"].mean()\n",
    "df[\"Average Reading Score\"] = averageReadingScore\n",
    "# df"
   ]
  },
  {
   "cell_type": "code",
   "execution_count": 211,
   "metadata": {
    "collapsed": true
   },
   "outputs": [],
   "source": [
    "# get the number of students that scored 70 or more in Math\n",
    "totalPassingMath = renamed_student_pd.loc[(renamed_student_pd[\"math_score\"] >= 70)][\"Student Name\"].count()\n",
    "percentPassingMath = (totalPassingMath / totalStudents) * 100\n",
    "df[\"% Passing Math\"] = percentPassingMath"
   ]
  },
  {
   "cell_type": "code",
   "execution_count": 212,
   "metadata": {
    "collapsed": true
   },
   "outputs": [],
   "source": [
    "# get the number of students that scored 70 or more in Reading\n",
    "# totalPassingReading = renamed_student_pd.loc[(renamed_student_pd[\"reading_score\"] >= 70)][\"Student Name\"].count()\n",
    "totalPassingReading = renamed_student_pd[(renamed_student_pd[\"reading_score\"] >= 70)][\"Student Name\"].count()\n",
    "percentPassingReading = (totalPassingReading / totalStudents) * 100\n",
    "\n",
    "df[\"% Passing Reading\"] = totalPassingReading"
   ]
  },
  {
   "cell_type": "code",
   "execution_count": 213,
   "metadata": {},
   "outputs": [
    {
     "data": {
      "text/html": [
       "<div>\n",
       "<style>\n",
       "    .dataframe thead tr:only-child th {\n",
       "        text-align: right;\n",
       "    }\n",
       "\n",
       "    .dataframe thead th {\n",
       "        text-align: left;\n",
       "    }\n",
       "\n",
       "    .dataframe tbody tr th {\n",
       "        vertical-align: top;\n",
       "    }\n",
       "</style>\n",
       "<table border=\"1\" class=\"dataframe\">\n",
       "  <thead>\n",
       "    <tr style=\"text-align: right;\">\n",
       "      <th></th>\n",
       "      <th>Total Schools</th>\n",
       "      <th>Total Students</th>\n",
       "      <th>Total Budget</th>\n",
       "      <th>Average Math Score</th>\n",
       "      <th>Average Reading Score</th>\n",
       "      <th>% Passing Math</th>\n",
       "      <th>% Passing Reading</th>\n",
       "      <th>% Overall Passing Rate</th>\n",
       "    </tr>\n",
       "  </thead>\n",
       "  <tbody>\n",
       "    <tr>\n",
       "      <th>0</th>\n",
       "      <td>15</td>\n",
       "      <td>39,170</td>\n",
       "      <td>$24,649,428.00</td>\n",
       "      <td>78.985371</td>\n",
       "      <td>81.87784</td>\n",
       "      <td>74.980853</td>\n",
       "      <td>33610</td>\n",
       "      <td>80.393158</td>\n",
       "    </tr>\n",
       "  </tbody>\n",
       "</table>\n",
       "</div>"
      ],
      "text/plain": [
       "   Total Schools Total Students    Total Budget  Average Math Score  \\\n",
       "0             15         39,170  $24,649,428.00           78.985371   \n",
       "\n",
       "   Average Reading Score  % Passing Math  % Passing Reading  \\\n",
       "0               81.87784       74.980853              33610   \n",
       "\n",
       "   % Overall Passing Rate  \n",
       "0               80.393158  "
      ]
     },
     "execution_count": 213,
     "metadata": {},
     "output_type": "execute_result"
    }
   ],
   "source": [
    "# compute the average of the number of students that scored 70 or more in Math and those that scored 70 or more in Reading \n",
    "overallPassingRate = ((totalPassingMath + totalPassingReading) / 2) / totalStudents * 100\n",
    "\n",
    "df[\"% Overall Passing Rate\"] = overallPassingRate\n",
    "df"
   ]
  },
  {
   "cell_type": "markdown",
   "metadata": {},
   "source": [
    "# School Summary"
   ]
  },
  {
   "cell_type": "code",
   "execution_count": 214,
   "metadata": {
    "collapsed": true
   },
   "outputs": [],
   "source": [
    "merged_pd = renamed_school_pd.merge(renamed_student_pd, on='School Name', how='outer')\n"
   ]
  },
  {
   "cell_type": "code",
   "execution_count": 215,
   "metadata": {
    "collapsed": true
   },
   "outputs": [],
   "source": [
    "# find total students, total budget, average math score, average reading score\n",
    "# df = merged_pd.groupby(['School Name', 'School Type']).aggregate({'Student ID':'count','budget':'max', 'math_score': 'mean', 'reading_score': 'mean'})\n",
    "df = merged_pd.groupby(['School Name']).aggregate({'School Type':'min','Student ID':'count','budget':'max', 'math_score': 'mean', 'reading_score': 'mean'})\n"
   ]
  },
  {
   "cell_type": "code",
   "execution_count": 216,
   "metadata": {
    "collapsed": true
   },
   "outputs": [],
   "source": [
    "# Find the total # of students by School/District with math scores > 70 \n",
    "TotalPassingMath = merged_pd[merged_pd['math_score'] >= 70].groupby(['School Name'])['math_score'].count()\n",
    "df['Total Passing Math'] = TotalPassingMath\n"
   ]
  },
  {
   "cell_type": "code",
   "execution_count": 217,
   "metadata": {
    "collapsed": true
   },
   "outputs": [],
   "source": [
    "# Find the total # of students by School/District with reading score > 70\n",
    "TotalPassingReading = merged_pd[merged_pd['reading_score'] >= 70].groupby(['School Name'])['reading_score'].count()\n",
    "df['Total Passing Reading'] = TotalPassingReading"
   ]
  },
  {
   "cell_type": "code",
   "execution_count": 218,
   "metadata": {
    "collapsed": true
   },
   "outputs": [],
   "source": [
    "# calculate budget per student\n",
    "df[\"Per Student Budget\"] = df['budget']/df['Student ID']\n",
    "# df.head()"
   ]
  },
  {
   "cell_type": "code",
   "execution_count": 219,
   "metadata": {
    "collapsed": true
   },
   "outputs": [],
   "source": [
    "df[\"% Passing Math\"] = df[\"Total Passing Math\"]/df[\"Student ID\"] * 100"
   ]
  },
  {
   "cell_type": "code",
   "execution_count": 220,
   "metadata": {
    "collapsed": true
   },
   "outputs": [],
   "source": [
    "df[\"% Passing Reading\"] = df[\"Total Passing Reading\"]/df[\"Student ID\"] * 100"
   ]
  },
  {
   "cell_type": "code",
   "execution_count": 221,
   "metadata": {
    "collapsed": true
   },
   "outputs": [],
   "source": [
    "df[\"% Overall Passing Rate\"] = ((df[\"Total Passing Math\"] + df[\"Total Passing Reading\"])/2)/df['Student ID'] * 100"
   ]
  },
  {
   "cell_type": "code",
   "execution_count": 222,
   "metadata": {
    "collapsed": true
   },
   "outputs": [],
   "source": [
    "# rename columns\n",
    "df_renamed = df.rename(columns = {\n",
    "    \"budget\":\"Total School Budget\",\n",
    "    \"Student ID\": \"Total Students\",\n",
    "    \"math_score\": \"Average Math Score\",\n",
    "    \"reading_score\" : \"Average Reading Score\"\n",
    "    \n",
    "})"
   ]
  },
  {
   "cell_type": "code",
   "execution_count": 223,
   "metadata": {
    "collapsed": true
   },
   "outputs": [],
   "source": [
    "# select columns to show in report \n",
    "df_final = df_renamed[[\"School Type\",\"Total Students\",\"Total School Budget\",\"Per Student Budget\",\"Average Math Score\",\"Average Reading Score\",\"% Passing Math\", \"% Passing Reading\",\"% Overall Passing Rate\"]]"
   ]
  },
  {
   "cell_type": "code",
   "execution_count": 224,
   "metadata": {},
   "outputs": [
    {
     "data": {
      "text/html": [
       "<style  type=\"text/css\" >\n",
       "</style>  \n",
       "<table id=\"T_018e200a_8dc1_11e7_ab92_c821588b3f07\" > \n",
       "<thead>    <tr> \n",
       "        <th class=\"blank level0\" ></th> \n",
       "        <th class=\"col_heading level0 col0\" >School Type</th> \n",
       "        <th class=\"col_heading level0 col1\" >Total Students</th> \n",
       "        <th class=\"col_heading level0 col2\" >Total School Budget</th> \n",
       "        <th class=\"col_heading level0 col3\" >Per Student Budget</th> \n",
       "        <th class=\"col_heading level0 col4\" >Average Math Score</th> \n",
       "        <th class=\"col_heading level0 col5\" >Average Reading Score</th> \n",
       "        <th class=\"col_heading level0 col6\" >% Passing Math</th> \n",
       "        <th class=\"col_heading level0 col7\" >% Passing Reading</th> \n",
       "        <th class=\"col_heading level0 col8\" >% Overall Passing Rate</th> \n",
       "    </tr>    <tr> \n",
       "        <th class=\"index_name level0\" >School Name</th> \n",
       "        <th class=\"blank\" ></th> \n",
       "        <th class=\"blank\" ></th> \n",
       "        <th class=\"blank\" ></th> \n",
       "        <th class=\"blank\" ></th> \n",
       "        <th class=\"blank\" ></th> \n",
       "        <th class=\"blank\" ></th> \n",
       "        <th class=\"blank\" ></th> \n",
       "        <th class=\"blank\" ></th> \n",
       "        <th class=\"blank\" ></th> \n",
       "    </tr></thead> \n",
       "<tbody>    <tr> \n",
       "        <th id=\"T_018e200a_8dc1_11e7_ab92_c821588b3f07\" class=\"row_heading level0 row0\" >Bailey High School</th> \n",
       "        <td id=\"T_018e200a_8dc1_11e7_ab92_c821588b3f07row0_col0\" class=\"data row0 col0\" >District</td> \n",
       "        <td id=\"T_018e200a_8dc1_11e7_ab92_c821588b3f07row0_col1\" class=\"data row0 col1\" >4976</td> \n",
       "        <td id=\"T_018e200a_8dc1_11e7_ab92_c821588b3f07row0_col2\" class=\"data row0 col2\" >$3,124,928.00</td> \n",
       "        <td id=\"T_018e200a_8dc1_11e7_ab92_c821588b3f07row0_col3\" class=\"data row0 col3\" >$628.00</td> \n",
       "        <td id=\"T_018e200a_8dc1_11e7_ab92_c821588b3f07row0_col4\" class=\"data row0 col4\" >77.0484</td> \n",
       "        <td id=\"T_018e200a_8dc1_11e7_ab92_c821588b3f07row0_col5\" class=\"data row0 col5\" >81.034</td> \n",
       "        <td id=\"T_018e200a_8dc1_11e7_ab92_c821588b3f07row0_col6\" class=\"data row0 col6\" >66.6801</td> \n",
       "        <td id=\"T_018e200a_8dc1_11e7_ab92_c821588b3f07row0_col7\" class=\"data row0 col7\" >81.9333</td> \n",
       "        <td id=\"T_018e200a_8dc1_11e7_ab92_c821588b3f07row0_col8\" class=\"data row0 col8\" >74.3067</td> \n",
       "    </tr>    <tr> \n",
       "        <th id=\"T_018e200a_8dc1_11e7_ab92_c821588b3f07\" class=\"row_heading level0 row1\" >Cabrera High School</th> \n",
       "        <td id=\"T_018e200a_8dc1_11e7_ab92_c821588b3f07row1_col0\" class=\"data row1 col0\" >Charter</td> \n",
       "        <td id=\"T_018e200a_8dc1_11e7_ab92_c821588b3f07row1_col1\" class=\"data row1 col1\" >1858</td> \n",
       "        <td id=\"T_018e200a_8dc1_11e7_ab92_c821588b3f07row1_col2\" class=\"data row1 col2\" >$1,081,356.00</td> \n",
       "        <td id=\"T_018e200a_8dc1_11e7_ab92_c821588b3f07row1_col3\" class=\"data row1 col3\" >$582.00</td> \n",
       "        <td id=\"T_018e200a_8dc1_11e7_ab92_c821588b3f07row1_col4\" class=\"data row1 col4\" >83.0619</td> \n",
       "        <td id=\"T_018e200a_8dc1_11e7_ab92_c821588b3f07row1_col5\" class=\"data row1 col5\" >83.9758</td> \n",
       "        <td id=\"T_018e200a_8dc1_11e7_ab92_c821588b3f07row1_col6\" class=\"data row1 col6\" >94.1335</td> \n",
       "        <td id=\"T_018e200a_8dc1_11e7_ab92_c821588b3f07row1_col7\" class=\"data row1 col7\" >97.0398</td> \n",
       "        <td id=\"T_018e200a_8dc1_11e7_ab92_c821588b3f07row1_col8\" class=\"data row1 col8\" >95.5867</td> \n",
       "    </tr>    <tr> \n",
       "        <th id=\"T_018e200a_8dc1_11e7_ab92_c821588b3f07\" class=\"row_heading level0 row2\" >Figueroa High School</th> \n",
       "        <td id=\"T_018e200a_8dc1_11e7_ab92_c821588b3f07row2_col0\" class=\"data row2 col0\" >District</td> \n",
       "        <td id=\"T_018e200a_8dc1_11e7_ab92_c821588b3f07row2_col1\" class=\"data row2 col1\" >2949</td> \n",
       "        <td id=\"T_018e200a_8dc1_11e7_ab92_c821588b3f07row2_col2\" class=\"data row2 col2\" >$1,884,411.00</td> \n",
       "        <td id=\"T_018e200a_8dc1_11e7_ab92_c821588b3f07row2_col3\" class=\"data row2 col3\" >$639.00</td> \n",
       "        <td id=\"T_018e200a_8dc1_11e7_ab92_c821588b3f07row2_col4\" class=\"data row2 col4\" >76.7118</td> \n",
       "        <td id=\"T_018e200a_8dc1_11e7_ab92_c821588b3f07row2_col5\" class=\"data row2 col5\" >81.158</td> \n",
       "        <td id=\"T_018e200a_8dc1_11e7_ab92_c821588b3f07row2_col6\" class=\"data row2 col6\" >65.9885</td> \n",
       "        <td id=\"T_018e200a_8dc1_11e7_ab92_c821588b3f07row2_col7\" class=\"data row2 col7\" >80.7392</td> \n",
       "        <td id=\"T_018e200a_8dc1_11e7_ab92_c821588b3f07row2_col8\" class=\"data row2 col8\" >73.3639</td> \n",
       "    </tr>    <tr> \n",
       "        <th id=\"T_018e200a_8dc1_11e7_ab92_c821588b3f07\" class=\"row_heading level0 row3\" >Ford High School</th> \n",
       "        <td id=\"T_018e200a_8dc1_11e7_ab92_c821588b3f07row3_col0\" class=\"data row3 col0\" >District</td> \n",
       "        <td id=\"T_018e200a_8dc1_11e7_ab92_c821588b3f07row3_col1\" class=\"data row3 col1\" >2739</td> \n",
       "        <td id=\"T_018e200a_8dc1_11e7_ab92_c821588b3f07row3_col2\" class=\"data row3 col2\" >$1,763,916.00</td> \n",
       "        <td id=\"T_018e200a_8dc1_11e7_ab92_c821588b3f07row3_col3\" class=\"data row3 col3\" >$644.00</td> \n",
       "        <td id=\"T_018e200a_8dc1_11e7_ab92_c821588b3f07row3_col4\" class=\"data row3 col4\" >77.1026</td> \n",
       "        <td id=\"T_018e200a_8dc1_11e7_ab92_c821588b3f07row3_col5\" class=\"data row3 col5\" >80.7463</td> \n",
       "        <td id=\"T_018e200a_8dc1_11e7_ab92_c821588b3f07row3_col6\" class=\"data row3 col6\" >68.3096</td> \n",
       "        <td id=\"T_018e200a_8dc1_11e7_ab92_c821588b3f07row3_col7\" class=\"data row3 col7\" >79.299</td> \n",
       "        <td id=\"T_018e200a_8dc1_11e7_ab92_c821588b3f07row3_col8\" class=\"data row3 col8\" >73.8043</td> \n",
       "    </tr>    <tr> \n",
       "        <th id=\"T_018e200a_8dc1_11e7_ab92_c821588b3f07\" class=\"row_heading level0 row4\" >Griffin High School</th> \n",
       "        <td id=\"T_018e200a_8dc1_11e7_ab92_c821588b3f07row4_col0\" class=\"data row4 col0\" >Charter</td> \n",
       "        <td id=\"T_018e200a_8dc1_11e7_ab92_c821588b3f07row4_col1\" class=\"data row4 col1\" >1468</td> \n",
       "        <td id=\"T_018e200a_8dc1_11e7_ab92_c821588b3f07row4_col2\" class=\"data row4 col2\" >$917,500.00</td> \n",
       "        <td id=\"T_018e200a_8dc1_11e7_ab92_c821588b3f07row4_col3\" class=\"data row4 col3\" >$625.00</td> \n",
       "        <td id=\"T_018e200a_8dc1_11e7_ab92_c821588b3f07row4_col4\" class=\"data row4 col4\" >83.3515</td> \n",
       "        <td id=\"T_018e200a_8dc1_11e7_ab92_c821588b3f07row4_col5\" class=\"data row4 col5\" >83.8168</td> \n",
       "        <td id=\"T_018e200a_8dc1_11e7_ab92_c821588b3f07row4_col6\" class=\"data row4 col6\" >93.3924</td> \n",
       "        <td id=\"T_018e200a_8dc1_11e7_ab92_c821588b3f07row4_col7\" class=\"data row4 col7\" >97.139</td> \n",
       "        <td id=\"T_018e200a_8dc1_11e7_ab92_c821588b3f07row4_col8\" class=\"data row4 col8\" >95.2657</td> \n",
       "    </tr>    <tr> \n",
       "        <th id=\"T_018e200a_8dc1_11e7_ab92_c821588b3f07\" class=\"row_heading level0 row5\" >Hernandez High School</th> \n",
       "        <td id=\"T_018e200a_8dc1_11e7_ab92_c821588b3f07row5_col0\" class=\"data row5 col0\" >District</td> \n",
       "        <td id=\"T_018e200a_8dc1_11e7_ab92_c821588b3f07row5_col1\" class=\"data row5 col1\" >4635</td> \n",
       "        <td id=\"T_018e200a_8dc1_11e7_ab92_c821588b3f07row5_col2\" class=\"data row5 col2\" >$3,022,020.00</td> \n",
       "        <td id=\"T_018e200a_8dc1_11e7_ab92_c821588b3f07row5_col3\" class=\"data row5 col3\" >$652.00</td> \n",
       "        <td id=\"T_018e200a_8dc1_11e7_ab92_c821588b3f07row5_col4\" class=\"data row5 col4\" >77.2898</td> \n",
       "        <td id=\"T_018e200a_8dc1_11e7_ab92_c821588b3f07row5_col5\" class=\"data row5 col5\" >80.9344</td> \n",
       "        <td id=\"T_018e200a_8dc1_11e7_ab92_c821588b3f07row5_col6\" class=\"data row5 col6\" >66.753</td> \n",
       "        <td id=\"T_018e200a_8dc1_11e7_ab92_c821588b3f07row5_col7\" class=\"data row5 col7\" >80.863</td> \n",
       "        <td id=\"T_018e200a_8dc1_11e7_ab92_c821588b3f07row5_col8\" class=\"data row5 col8\" >73.808</td> \n",
       "    </tr>    <tr> \n",
       "        <th id=\"T_018e200a_8dc1_11e7_ab92_c821588b3f07\" class=\"row_heading level0 row6\" >Holden High School</th> \n",
       "        <td id=\"T_018e200a_8dc1_11e7_ab92_c821588b3f07row6_col0\" class=\"data row6 col0\" >Charter</td> \n",
       "        <td id=\"T_018e200a_8dc1_11e7_ab92_c821588b3f07row6_col1\" class=\"data row6 col1\" >427</td> \n",
       "        <td id=\"T_018e200a_8dc1_11e7_ab92_c821588b3f07row6_col2\" class=\"data row6 col2\" >$248,087.00</td> \n",
       "        <td id=\"T_018e200a_8dc1_11e7_ab92_c821588b3f07row6_col3\" class=\"data row6 col3\" >$581.00</td> \n",
       "        <td id=\"T_018e200a_8dc1_11e7_ab92_c821588b3f07row6_col4\" class=\"data row6 col4\" >83.8033</td> \n",
       "        <td id=\"T_018e200a_8dc1_11e7_ab92_c821588b3f07row6_col5\" class=\"data row6 col5\" >83.815</td> \n",
       "        <td id=\"T_018e200a_8dc1_11e7_ab92_c821588b3f07row6_col6\" class=\"data row6 col6\" >92.5059</td> \n",
       "        <td id=\"T_018e200a_8dc1_11e7_ab92_c821588b3f07row6_col7\" class=\"data row6 col7\" >96.2529</td> \n",
       "        <td id=\"T_018e200a_8dc1_11e7_ab92_c821588b3f07row6_col8\" class=\"data row6 col8\" >94.3794</td> \n",
       "    </tr>    <tr> \n",
       "        <th id=\"T_018e200a_8dc1_11e7_ab92_c821588b3f07\" class=\"row_heading level0 row7\" >Huang High School</th> \n",
       "        <td id=\"T_018e200a_8dc1_11e7_ab92_c821588b3f07row7_col0\" class=\"data row7 col0\" >District</td> \n",
       "        <td id=\"T_018e200a_8dc1_11e7_ab92_c821588b3f07row7_col1\" class=\"data row7 col1\" >2917</td> \n",
       "        <td id=\"T_018e200a_8dc1_11e7_ab92_c821588b3f07row7_col2\" class=\"data row7 col2\" >$1,910,635.00</td> \n",
       "        <td id=\"T_018e200a_8dc1_11e7_ab92_c821588b3f07row7_col3\" class=\"data row7 col3\" >$655.00</td> \n",
       "        <td id=\"T_018e200a_8dc1_11e7_ab92_c821588b3f07row7_col4\" class=\"data row7 col4\" >76.6294</td> \n",
       "        <td id=\"T_018e200a_8dc1_11e7_ab92_c821588b3f07row7_col5\" class=\"data row7 col5\" >81.1827</td> \n",
       "        <td id=\"T_018e200a_8dc1_11e7_ab92_c821588b3f07row7_col6\" class=\"data row7 col6\" >65.6839</td> \n",
       "        <td id=\"T_018e200a_8dc1_11e7_ab92_c821588b3f07row7_col7\" class=\"data row7 col7\" >81.3164</td> \n",
       "        <td id=\"T_018e200a_8dc1_11e7_ab92_c821588b3f07row7_col8\" class=\"data row7 col8\" >73.5002</td> \n",
       "    </tr>    <tr> \n",
       "        <th id=\"T_018e200a_8dc1_11e7_ab92_c821588b3f07\" class=\"row_heading level0 row8\" >Johnson High School</th> \n",
       "        <td id=\"T_018e200a_8dc1_11e7_ab92_c821588b3f07row8_col0\" class=\"data row8 col0\" >District</td> \n",
       "        <td id=\"T_018e200a_8dc1_11e7_ab92_c821588b3f07row8_col1\" class=\"data row8 col1\" >4761</td> \n",
       "        <td id=\"T_018e200a_8dc1_11e7_ab92_c821588b3f07row8_col2\" class=\"data row8 col2\" >$3,094,650.00</td> \n",
       "        <td id=\"T_018e200a_8dc1_11e7_ab92_c821588b3f07row8_col3\" class=\"data row8 col3\" >$650.00</td> \n",
       "        <td id=\"T_018e200a_8dc1_11e7_ab92_c821588b3f07row8_col4\" class=\"data row8 col4\" >77.0725</td> \n",
       "        <td id=\"T_018e200a_8dc1_11e7_ab92_c821588b3f07row8_col5\" class=\"data row8 col5\" >80.9664</td> \n",
       "        <td id=\"T_018e200a_8dc1_11e7_ab92_c821588b3f07row8_col6\" class=\"data row8 col6\" >66.0576</td> \n",
       "        <td id=\"T_018e200a_8dc1_11e7_ab92_c821588b3f07row8_col7\" class=\"data row8 col7\" >81.2224</td> \n",
       "        <td id=\"T_018e200a_8dc1_11e7_ab92_c821588b3f07row8_col8\" class=\"data row8 col8\" >73.64</td> \n",
       "    </tr>    <tr> \n",
       "        <th id=\"T_018e200a_8dc1_11e7_ab92_c821588b3f07\" class=\"row_heading level0 row9\" >Pena High School</th> \n",
       "        <td id=\"T_018e200a_8dc1_11e7_ab92_c821588b3f07row9_col0\" class=\"data row9 col0\" >Charter</td> \n",
       "        <td id=\"T_018e200a_8dc1_11e7_ab92_c821588b3f07row9_col1\" class=\"data row9 col1\" >962</td> \n",
       "        <td id=\"T_018e200a_8dc1_11e7_ab92_c821588b3f07row9_col2\" class=\"data row9 col2\" >$585,858.00</td> \n",
       "        <td id=\"T_018e200a_8dc1_11e7_ab92_c821588b3f07row9_col3\" class=\"data row9 col3\" >$609.00</td> \n",
       "        <td id=\"T_018e200a_8dc1_11e7_ab92_c821588b3f07row9_col4\" class=\"data row9 col4\" >83.8399</td> \n",
       "        <td id=\"T_018e200a_8dc1_11e7_ab92_c821588b3f07row9_col5\" class=\"data row9 col5\" >84.0447</td> \n",
       "        <td id=\"T_018e200a_8dc1_11e7_ab92_c821588b3f07row9_col6\" class=\"data row9 col6\" >94.5946</td> \n",
       "        <td id=\"T_018e200a_8dc1_11e7_ab92_c821588b3f07row9_col7\" class=\"data row9 col7\" >95.9459</td> \n",
       "        <td id=\"T_018e200a_8dc1_11e7_ab92_c821588b3f07row9_col8\" class=\"data row9 col8\" >95.2703</td> \n",
       "    </tr>    <tr> \n",
       "        <th id=\"T_018e200a_8dc1_11e7_ab92_c821588b3f07\" class=\"row_heading level0 row10\" >Rodriguez High School</th> \n",
       "        <td id=\"T_018e200a_8dc1_11e7_ab92_c821588b3f07row10_col0\" class=\"data row10 col0\" >District</td> \n",
       "        <td id=\"T_018e200a_8dc1_11e7_ab92_c821588b3f07row10_col1\" class=\"data row10 col1\" >3999</td> \n",
       "        <td id=\"T_018e200a_8dc1_11e7_ab92_c821588b3f07row10_col2\" class=\"data row10 col2\" >$2,547,363.00</td> \n",
       "        <td id=\"T_018e200a_8dc1_11e7_ab92_c821588b3f07row10_col3\" class=\"data row10 col3\" >$637.00</td> \n",
       "        <td id=\"T_018e200a_8dc1_11e7_ab92_c821588b3f07row10_col4\" class=\"data row10 col4\" >76.8427</td> \n",
       "        <td id=\"T_018e200a_8dc1_11e7_ab92_c821588b3f07row10_col5\" class=\"data row10 col5\" >80.7447</td> \n",
       "        <td id=\"T_018e200a_8dc1_11e7_ab92_c821588b3f07row10_col6\" class=\"data row10 col6\" >66.3666</td> \n",
       "        <td id=\"T_018e200a_8dc1_11e7_ab92_c821588b3f07row10_col7\" class=\"data row10 col7\" >80.2201</td> \n",
       "        <td id=\"T_018e200a_8dc1_11e7_ab92_c821588b3f07row10_col8\" class=\"data row10 col8\" >73.2933</td> \n",
       "    </tr>    <tr> \n",
       "        <th id=\"T_018e200a_8dc1_11e7_ab92_c821588b3f07\" class=\"row_heading level0 row11\" >Shelton High School</th> \n",
       "        <td id=\"T_018e200a_8dc1_11e7_ab92_c821588b3f07row11_col0\" class=\"data row11 col0\" >Charter</td> \n",
       "        <td id=\"T_018e200a_8dc1_11e7_ab92_c821588b3f07row11_col1\" class=\"data row11 col1\" >1761</td> \n",
       "        <td id=\"T_018e200a_8dc1_11e7_ab92_c821588b3f07row11_col2\" class=\"data row11 col2\" >$1,056,600.00</td> \n",
       "        <td id=\"T_018e200a_8dc1_11e7_ab92_c821588b3f07row11_col3\" class=\"data row11 col3\" >$600.00</td> \n",
       "        <td id=\"T_018e200a_8dc1_11e7_ab92_c821588b3f07row11_col4\" class=\"data row11 col4\" >83.3595</td> \n",
       "        <td id=\"T_018e200a_8dc1_11e7_ab92_c821588b3f07row11_col5\" class=\"data row11 col5\" >83.7257</td> \n",
       "        <td id=\"T_018e200a_8dc1_11e7_ab92_c821588b3f07row11_col6\" class=\"data row11 col6\" >93.8671</td> \n",
       "        <td id=\"T_018e200a_8dc1_11e7_ab92_c821588b3f07row11_col7\" class=\"data row11 col7\" >95.8546</td> \n",
       "        <td id=\"T_018e200a_8dc1_11e7_ab92_c821588b3f07row11_col8\" class=\"data row11 col8\" >94.8609</td> \n",
       "    </tr>    <tr> \n",
       "        <th id=\"T_018e200a_8dc1_11e7_ab92_c821588b3f07\" class=\"row_heading level0 row12\" >Thomas High School</th> \n",
       "        <td id=\"T_018e200a_8dc1_11e7_ab92_c821588b3f07row12_col0\" class=\"data row12 col0\" >Charter</td> \n",
       "        <td id=\"T_018e200a_8dc1_11e7_ab92_c821588b3f07row12_col1\" class=\"data row12 col1\" >1635</td> \n",
       "        <td id=\"T_018e200a_8dc1_11e7_ab92_c821588b3f07row12_col2\" class=\"data row12 col2\" >$1,043,130.00</td> \n",
       "        <td id=\"T_018e200a_8dc1_11e7_ab92_c821588b3f07row12_col3\" class=\"data row12 col3\" >$638.00</td> \n",
       "        <td id=\"T_018e200a_8dc1_11e7_ab92_c821588b3f07row12_col4\" class=\"data row12 col4\" >83.4183</td> \n",
       "        <td id=\"T_018e200a_8dc1_11e7_ab92_c821588b3f07row12_col5\" class=\"data row12 col5\" >83.8489</td> \n",
       "        <td id=\"T_018e200a_8dc1_11e7_ab92_c821588b3f07row12_col6\" class=\"data row12 col6\" >93.2722</td> \n",
       "        <td id=\"T_018e200a_8dc1_11e7_ab92_c821588b3f07row12_col7\" class=\"data row12 col7\" >97.3089</td> \n",
       "        <td id=\"T_018e200a_8dc1_11e7_ab92_c821588b3f07row12_col8\" class=\"data row12 col8\" >95.2905</td> \n",
       "    </tr>    <tr> \n",
       "        <th id=\"T_018e200a_8dc1_11e7_ab92_c821588b3f07\" class=\"row_heading level0 row13\" >Wilson High School</th> \n",
       "        <td id=\"T_018e200a_8dc1_11e7_ab92_c821588b3f07row13_col0\" class=\"data row13 col0\" >Charter</td> \n",
       "        <td id=\"T_018e200a_8dc1_11e7_ab92_c821588b3f07row13_col1\" class=\"data row13 col1\" >2283</td> \n",
       "        <td id=\"T_018e200a_8dc1_11e7_ab92_c821588b3f07row13_col2\" class=\"data row13 col2\" >$1,319,574.00</td> \n",
       "        <td id=\"T_018e200a_8dc1_11e7_ab92_c821588b3f07row13_col3\" class=\"data row13 col3\" >$578.00</td> \n",
       "        <td id=\"T_018e200a_8dc1_11e7_ab92_c821588b3f07row13_col4\" class=\"data row13 col4\" >83.2742</td> \n",
       "        <td id=\"T_018e200a_8dc1_11e7_ab92_c821588b3f07row13_col5\" class=\"data row13 col5\" >83.9895</td> \n",
       "        <td id=\"T_018e200a_8dc1_11e7_ab92_c821588b3f07row13_col6\" class=\"data row13 col6\" >93.8677</td> \n",
       "        <td id=\"T_018e200a_8dc1_11e7_ab92_c821588b3f07row13_col7\" class=\"data row13 col7\" >96.5396</td> \n",
       "        <td id=\"T_018e200a_8dc1_11e7_ab92_c821588b3f07row13_col8\" class=\"data row13 col8\" >95.2037</td> \n",
       "    </tr>    <tr> \n",
       "        <th id=\"T_018e200a_8dc1_11e7_ab92_c821588b3f07\" class=\"row_heading level0 row14\" >Wright High School</th> \n",
       "        <td id=\"T_018e200a_8dc1_11e7_ab92_c821588b3f07row14_col0\" class=\"data row14 col0\" >Charter</td> \n",
       "        <td id=\"T_018e200a_8dc1_11e7_ab92_c821588b3f07row14_col1\" class=\"data row14 col1\" >1800</td> \n",
       "        <td id=\"T_018e200a_8dc1_11e7_ab92_c821588b3f07row14_col2\" class=\"data row14 col2\" >$1,049,400.00</td> \n",
       "        <td id=\"T_018e200a_8dc1_11e7_ab92_c821588b3f07row14_col3\" class=\"data row14 col3\" >$583.00</td> \n",
       "        <td id=\"T_018e200a_8dc1_11e7_ab92_c821588b3f07row14_col4\" class=\"data row14 col4\" >83.6822</td> \n",
       "        <td id=\"T_018e200a_8dc1_11e7_ab92_c821588b3f07row14_col5\" class=\"data row14 col5\" >83.955</td> \n",
       "        <td id=\"T_018e200a_8dc1_11e7_ab92_c821588b3f07row14_col6\" class=\"data row14 col6\" >93.3333</td> \n",
       "        <td id=\"T_018e200a_8dc1_11e7_ab92_c821588b3f07row14_col7\" class=\"data row14 col7\" >96.6111</td> \n",
       "        <td id=\"T_018e200a_8dc1_11e7_ab92_c821588b3f07row14_col8\" class=\"data row14 col8\" >94.9722</td> \n",
       "    </tr></tbody> \n",
       "</table> "
      ],
      "text/plain": [
       "<pandas.io.formats.style.Styler at 0x2469b236080>"
      ]
     },
     "execution_count": 224,
     "metadata": {},
     "output_type": "execute_result"
    }
   ],
   "source": [
    "# Final Report\n",
    "df_final.style.format({\"Total School Budget\": \"${:,.2f}\", \"Per Student Budget\": \"${:,.2f}\"})"
   ]
  },
  {
   "cell_type": "markdown",
   "metadata": {},
   "source": [
    "# Top Performing School ( By Passing Rate)"
   ]
  },
  {
   "cell_type": "code",
   "execution_count": 225,
   "metadata": {},
   "outputs": [
    {
     "data": {
      "text/html": [
       "<style  type=\"text/css\" >\n",
       "</style>  \n",
       "<table id=\"T_019403a2_8dc1_11e7_ae67_c821588b3f07\" > \n",
       "<thead>    <tr> \n",
       "        <th class=\"blank level0\" ></th> \n",
       "        <th class=\"col_heading level0 col0\" >School Type</th> \n",
       "        <th class=\"col_heading level0 col1\" >Total Students</th> \n",
       "        <th class=\"col_heading level0 col2\" >Total School Budget</th> \n",
       "        <th class=\"col_heading level0 col3\" >Per Student Budget</th> \n",
       "        <th class=\"col_heading level0 col4\" >Average Math Score</th> \n",
       "        <th class=\"col_heading level0 col5\" >Average Reading Score</th> \n",
       "        <th class=\"col_heading level0 col6\" >% Passing Math</th> \n",
       "        <th class=\"col_heading level0 col7\" >% Passing Reading</th> \n",
       "        <th class=\"col_heading level0 col8\" >% Overall Passing Rate</th> \n",
       "    </tr>    <tr> \n",
       "        <th class=\"index_name level0\" >School Name</th> \n",
       "        <th class=\"blank\" ></th> \n",
       "        <th class=\"blank\" ></th> \n",
       "        <th class=\"blank\" ></th> \n",
       "        <th class=\"blank\" ></th> \n",
       "        <th class=\"blank\" ></th> \n",
       "        <th class=\"blank\" ></th> \n",
       "        <th class=\"blank\" ></th> \n",
       "        <th class=\"blank\" ></th> \n",
       "        <th class=\"blank\" ></th> \n",
       "    </tr></thead> \n",
       "<tbody>    <tr> \n",
       "        <th id=\"T_019403a2_8dc1_11e7_ae67_c821588b3f07\" class=\"row_heading level0 row0\" >Cabrera High School</th> \n",
       "        <td id=\"T_019403a2_8dc1_11e7_ae67_c821588b3f07row0_col0\" class=\"data row0 col0\" >Charter</td> \n",
       "        <td id=\"T_019403a2_8dc1_11e7_ae67_c821588b3f07row0_col1\" class=\"data row0 col1\" >1858</td> \n",
       "        <td id=\"T_019403a2_8dc1_11e7_ae67_c821588b3f07row0_col2\" class=\"data row0 col2\" >$1,081,356.00</td> \n",
       "        <td id=\"T_019403a2_8dc1_11e7_ae67_c821588b3f07row0_col3\" class=\"data row0 col3\" >$582.00</td> \n",
       "        <td id=\"T_019403a2_8dc1_11e7_ae67_c821588b3f07row0_col4\" class=\"data row0 col4\" >83.0619</td> \n",
       "        <td id=\"T_019403a2_8dc1_11e7_ae67_c821588b3f07row0_col5\" class=\"data row0 col5\" >83.9758</td> \n",
       "        <td id=\"T_019403a2_8dc1_11e7_ae67_c821588b3f07row0_col6\" class=\"data row0 col6\" >94.1335</td> \n",
       "        <td id=\"T_019403a2_8dc1_11e7_ae67_c821588b3f07row0_col7\" class=\"data row0 col7\" >97.0398</td> \n",
       "        <td id=\"T_019403a2_8dc1_11e7_ae67_c821588b3f07row0_col8\" class=\"data row0 col8\" >95.5867</td> \n",
       "    </tr>    <tr> \n",
       "        <th id=\"T_019403a2_8dc1_11e7_ae67_c821588b3f07\" class=\"row_heading level0 row1\" >Thomas High School</th> \n",
       "        <td id=\"T_019403a2_8dc1_11e7_ae67_c821588b3f07row1_col0\" class=\"data row1 col0\" >Charter</td> \n",
       "        <td id=\"T_019403a2_8dc1_11e7_ae67_c821588b3f07row1_col1\" class=\"data row1 col1\" >1635</td> \n",
       "        <td id=\"T_019403a2_8dc1_11e7_ae67_c821588b3f07row1_col2\" class=\"data row1 col2\" >$1,043,130.00</td> \n",
       "        <td id=\"T_019403a2_8dc1_11e7_ae67_c821588b3f07row1_col3\" class=\"data row1 col3\" >$638.00</td> \n",
       "        <td id=\"T_019403a2_8dc1_11e7_ae67_c821588b3f07row1_col4\" class=\"data row1 col4\" >83.4183</td> \n",
       "        <td id=\"T_019403a2_8dc1_11e7_ae67_c821588b3f07row1_col5\" class=\"data row1 col5\" >83.8489</td> \n",
       "        <td id=\"T_019403a2_8dc1_11e7_ae67_c821588b3f07row1_col6\" class=\"data row1 col6\" >93.2722</td> \n",
       "        <td id=\"T_019403a2_8dc1_11e7_ae67_c821588b3f07row1_col7\" class=\"data row1 col7\" >97.3089</td> \n",
       "        <td id=\"T_019403a2_8dc1_11e7_ae67_c821588b3f07row1_col8\" class=\"data row1 col8\" >95.2905</td> \n",
       "    </tr>    <tr> \n",
       "        <th id=\"T_019403a2_8dc1_11e7_ae67_c821588b3f07\" class=\"row_heading level0 row2\" >Pena High School</th> \n",
       "        <td id=\"T_019403a2_8dc1_11e7_ae67_c821588b3f07row2_col0\" class=\"data row2 col0\" >Charter</td> \n",
       "        <td id=\"T_019403a2_8dc1_11e7_ae67_c821588b3f07row2_col1\" class=\"data row2 col1\" >962</td> \n",
       "        <td id=\"T_019403a2_8dc1_11e7_ae67_c821588b3f07row2_col2\" class=\"data row2 col2\" >$585,858.00</td> \n",
       "        <td id=\"T_019403a2_8dc1_11e7_ae67_c821588b3f07row2_col3\" class=\"data row2 col3\" >$609.00</td> \n",
       "        <td id=\"T_019403a2_8dc1_11e7_ae67_c821588b3f07row2_col4\" class=\"data row2 col4\" >83.8399</td> \n",
       "        <td id=\"T_019403a2_8dc1_11e7_ae67_c821588b3f07row2_col5\" class=\"data row2 col5\" >84.0447</td> \n",
       "        <td id=\"T_019403a2_8dc1_11e7_ae67_c821588b3f07row2_col6\" class=\"data row2 col6\" >94.5946</td> \n",
       "        <td id=\"T_019403a2_8dc1_11e7_ae67_c821588b3f07row2_col7\" class=\"data row2 col7\" >95.9459</td> \n",
       "        <td id=\"T_019403a2_8dc1_11e7_ae67_c821588b3f07row2_col8\" class=\"data row2 col8\" >95.2703</td> \n",
       "    </tr>    <tr> \n",
       "        <th id=\"T_019403a2_8dc1_11e7_ae67_c821588b3f07\" class=\"row_heading level0 row3\" >Griffin High School</th> \n",
       "        <td id=\"T_019403a2_8dc1_11e7_ae67_c821588b3f07row3_col0\" class=\"data row3 col0\" >Charter</td> \n",
       "        <td id=\"T_019403a2_8dc1_11e7_ae67_c821588b3f07row3_col1\" class=\"data row3 col1\" >1468</td> \n",
       "        <td id=\"T_019403a2_8dc1_11e7_ae67_c821588b3f07row3_col2\" class=\"data row3 col2\" >$917,500.00</td> \n",
       "        <td id=\"T_019403a2_8dc1_11e7_ae67_c821588b3f07row3_col3\" class=\"data row3 col3\" >$625.00</td> \n",
       "        <td id=\"T_019403a2_8dc1_11e7_ae67_c821588b3f07row3_col4\" class=\"data row3 col4\" >83.3515</td> \n",
       "        <td id=\"T_019403a2_8dc1_11e7_ae67_c821588b3f07row3_col5\" class=\"data row3 col5\" >83.8168</td> \n",
       "        <td id=\"T_019403a2_8dc1_11e7_ae67_c821588b3f07row3_col6\" class=\"data row3 col6\" >93.3924</td> \n",
       "        <td id=\"T_019403a2_8dc1_11e7_ae67_c821588b3f07row3_col7\" class=\"data row3 col7\" >97.139</td> \n",
       "        <td id=\"T_019403a2_8dc1_11e7_ae67_c821588b3f07row3_col8\" class=\"data row3 col8\" >95.2657</td> \n",
       "    </tr>    <tr> \n",
       "        <th id=\"T_019403a2_8dc1_11e7_ae67_c821588b3f07\" class=\"row_heading level0 row4\" >Wilson High School</th> \n",
       "        <td id=\"T_019403a2_8dc1_11e7_ae67_c821588b3f07row4_col0\" class=\"data row4 col0\" >Charter</td> \n",
       "        <td id=\"T_019403a2_8dc1_11e7_ae67_c821588b3f07row4_col1\" class=\"data row4 col1\" >2283</td> \n",
       "        <td id=\"T_019403a2_8dc1_11e7_ae67_c821588b3f07row4_col2\" class=\"data row4 col2\" >$1,319,574.00</td> \n",
       "        <td id=\"T_019403a2_8dc1_11e7_ae67_c821588b3f07row4_col3\" class=\"data row4 col3\" >$578.00</td> \n",
       "        <td id=\"T_019403a2_8dc1_11e7_ae67_c821588b3f07row4_col4\" class=\"data row4 col4\" >83.2742</td> \n",
       "        <td id=\"T_019403a2_8dc1_11e7_ae67_c821588b3f07row4_col5\" class=\"data row4 col5\" >83.9895</td> \n",
       "        <td id=\"T_019403a2_8dc1_11e7_ae67_c821588b3f07row4_col6\" class=\"data row4 col6\" >93.8677</td> \n",
       "        <td id=\"T_019403a2_8dc1_11e7_ae67_c821588b3f07row4_col7\" class=\"data row4 col7\" >96.5396</td> \n",
       "        <td id=\"T_019403a2_8dc1_11e7_ae67_c821588b3f07row4_col8\" class=\"data row4 col8\" >95.2037</td> \n",
       "    </tr></tbody> \n",
       "</table> "
      ],
      "text/plain": [
       "<pandas.io.formats.style.Styler at 0x2469b6ee7f0>"
      ]
     },
     "execution_count": 225,
     "metadata": {},
     "output_type": "execute_result"
    }
   ],
   "source": [
    "# Top 5 performing schools final report\n",
    "df_sorted_top_final = df_final.sort_values('% Overall Passing Rate', ascending=False).head()\n",
    "# Final Report\n",
    "df_sorted_top_final.style.format({\"Total School Budget\": \"${:,.2f}\", \"Per Student Budget\": \"${:,.2f}\"})"
   ]
  },
  {
   "cell_type": "markdown",
   "metadata": {},
   "source": [
    "## Bottom Performing Schools (By Passing Rate)"
   ]
  },
  {
   "cell_type": "code",
   "execution_count": 226,
   "metadata": {},
   "outputs": [
    {
     "data": {
      "text/html": [
       "<style  type=\"text/css\" >\n",
       "</style>  \n",
       "<table id=\"T_0197d6d2_8dc1_11e7_a26f_c821588b3f07\" > \n",
       "<thead>    <tr> \n",
       "        <th class=\"blank level0\" ></th> \n",
       "        <th class=\"col_heading level0 col0\" >School Type</th> \n",
       "        <th class=\"col_heading level0 col1\" >Total Students</th> \n",
       "        <th class=\"col_heading level0 col2\" >Total School Budget</th> \n",
       "        <th class=\"col_heading level0 col3\" >Per Student Budget</th> \n",
       "        <th class=\"col_heading level0 col4\" >Average Math Score</th> \n",
       "        <th class=\"col_heading level0 col5\" >Average Reading Score</th> \n",
       "        <th class=\"col_heading level0 col6\" >% Passing Math</th> \n",
       "        <th class=\"col_heading level0 col7\" >% Passing Reading</th> \n",
       "        <th class=\"col_heading level0 col8\" >% Overall Passing Rate</th> \n",
       "    </tr>    <tr> \n",
       "        <th class=\"index_name level0\" >School Name</th> \n",
       "        <th class=\"blank\" ></th> \n",
       "        <th class=\"blank\" ></th> \n",
       "        <th class=\"blank\" ></th> \n",
       "        <th class=\"blank\" ></th> \n",
       "        <th class=\"blank\" ></th> \n",
       "        <th class=\"blank\" ></th> \n",
       "        <th class=\"blank\" ></th> \n",
       "        <th class=\"blank\" ></th> \n",
       "        <th class=\"blank\" ></th> \n",
       "    </tr></thead> \n",
       "<tbody>    <tr> \n",
       "        <th id=\"T_0197d6d2_8dc1_11e7_a26f_c821588b3f07\" class=\"row_heading level0 row0\" >Rodriguez High School</th> \n",
       "        <td id=\"T_0197d6d2_8dc1_11e7_a26f_c821588b3f07row0_col0\" class=\"data row0 col0\" >District</td> \n",
       "        <td id=\"T_0197d6d2_8dc1_11e7_a26f_c821588b3f07row0_col1\" class=\"data row0 col1\" >3999</td> \n",
       "        <td id=\"T_0197d6d2_8dc1_11e7_a26f_c821588b3f07row0_col2\" class=\"data row0 col2\" >$2,547,363.00</td> \n",
       "        <td id=\"T_0197d6d2_8dc1_11e7_a26f_c821588b3f07row0_col3\" class=\"data row0 col3\" >$637.00</td> \n",
       "        <td id=\"T_0197d6d2_8dc1_11e7_a26f_c821588b3f07row0_col4\" class=\"data row0 col4\" >76.8427</td> \n",
       "        <td id=\"T_0197d6d2_8dc1_11e7_a26f_c821588b3f07row0_col5\" class=\"data row0 col5\" >80.7447</td> \n",
       "        <td id=\"T_0197d6d2_8dc1_11e7_a26f_c821588b3f07row0_col6\" class=\"data row0 col6\" >66.3666</td> \n",
       "        <td id=\"T_0197d6d2_8dc1_11e7_a26f_c821588b3f07row0_col7\" class=\"data row0 col7\" >80.2201</td> \n",
       "        <td id=\"T_0197d6d2_8dc1_11e7_a26f_c821588b3f07row0_col8\" class=\"data row0 col8\" >73.2933</td> \n",
       "    </tr>    <tr> \n",
       "        <th id=\"T_0197d6d2_8dc1_11e7_a26f_c821588b3f07\" class=\"row_heading level0 row1\" >Figueroa High School</th> \n",
       "        <td id=\"T_0197d6d2_8dc1_11e7_a26f_c821588b3f07row1_col0\" class=\"data row1 col0\" >District</td> \n",
       "        <td id=\"T_0197d6d2_8dc1_11e7_a26f_c821588b3f07row1_col1\" class=\"data row1 col1\" >2949</td> \n",
       "        <td id=\"T_0197d6d2_8dc1_11e7_a26f_c821588b3f07row1_col2\" class=\"data row1 col2\" >$1,884,411.00</td> \n",
       "        <td id=\"T_0197d6d2_8dc1_11e7_a26f_c821588b3f07row1_col3\" class=\"data row1 col3\" >$639.00</td> \n",
       "        <td id=\"T_0197d6d2_8dc1_11e7_a26f_c821588b3f07row1_col4\" class=\"data row1 col4\" >76.7118</td> \n",
       "        <td id=\"T_0197d6d2_8dc1_11e7_a26f_c821588b3f07row1_col5\" class=\"data row1 col5\" >81.158</td> \n",
       "        <td id=\"T_0197d6d2_8dc1_11e7_a26f_c821588b3f07row1_col6\" class=\"data row1 col6\" >65.9885</td> \n",
       "        <td id=\"T_0197d6d2_8dc1_11e7_a26f_c821588b3f07row1_col7\" class=\"data row1 col7\" >80.7392</td> \n",
       "        <td id=\"T_0197d6d2_8dc1_11e7_a26f_c821588b3f07row1_col8\" class=\"data row1 col8\" >73.3639</td> \n",
       "    </tr>    <tr> \n",
       "        <th id=\"T_0197d6d2_8dc1_11e7_a26f_c821588b3f07\" class=\"row_heading level0 row2\" >Huang High School</th> \n",
       "        <td id=\"T_0197d6d2_8dc1_11e7_a26f_c821588b3f07row2_col0\" class=\"data row2 col0\" >District</td> \n",
       "        <td id=\"T_0197d6d2_8dc1_11e7_a26f_c821588b3f07row2_col1\" class=\"data row2 col1\" >2917</td> \n",
       "        <td id=\"T_0197d6d2_8dc1_11e7_a26f_c821588b3f07row2_col2\" class=\"data row2 col2\" >$1,910,635.00</td> \n",
       "        <td id=\"T_0197d6d2_8dc1_11e7_a26f_c821588b3f07row2_col3\" class=\"data row2 col3\" >$655.00</td> \n",
       "        <td id=\"T_0197d6d2_8dc1_11e7_a26f_c821588b3f07row2_col4\" class=\"data row2 col4\" >76.6294</td> \n",
       "        <td id=\"T_0197d6d2_8dc1_11e7_a26f_c821588b3f07row2_col5\" class=\"data row2 col5\" >81.1827</td> \n",
       "        <td id=\"T_0197d6d2_8dc1_11e7_a26f_c821588b3f07row2_col6\" class=\"data row2 col6\" >65.6839</td> \n",
       "        <td id=\"T_0197d6d2_8dc1_11e7_a26f_c821588b3f07row2_col7\" class=\"data row2 col7\" >81.3164</td> \n",
       "        <td id=\"T_0197d6d2_8dc1_11e7_a26f_c821588b3f07row2_col8\" class=\"data row2 col8\" >73.5002</td> \n",
       "    </tr>    <tr> \n",
       "        <th id=\"T_0197d6d2_8dc1_11e7_a26f_c821588b3f07\" class=\"row_heading level0 row3\" >Johnson High School</th> \n",
       "        <td id=\"T_0197d6d2_8dc1_11e7_a26f_c821588b3f07row3_col0\" class=\"data row3 col0\" >District</td> \n",
       "        <td id=\"T_0197d6d2_8dc1_11e7_a26f_c821588b3f07row3_col1\" class=\"data row3 col1\" >4761</td> \n",
       "        <td id=\"T_0197d6d2_8dc1_11e7_a26f_c821588b3f07row3_col2\" class=\"data row3 col2\" >$3,094,650.00</td> \n",
       "        <td id=\"T_0197d6d2_8dc1_11e7_a26f_c821588b3f07row3_col3\" class=\"data row3 col3\" >$650.00</td> \n",
       "        <td id=\"T_0197d6d2_8dc1_11e7_a26f_c821588b3f07row3_col4\" class=\"data row3 col4\" >77.0725</td> \n",
       "        <td id=\"T_0197d6d2_8dc1_11e7_a26f_c821588b3f07row3_col5\" class=\"data row3 col5\" >80.9664</td> \n",
       "        <td id=\"T_0197d6d2_8dc1_11e7_a26f_c821588b3f07row3_col6\" class=\"data row3 col6\" >66.0576</td> \n",
       "        <td id=\"T_0197d6d2_8dc1_11e7_a26f_c821588b3f07row3_col7\" class=\"data row3 col7\" >81.2224</td> \n",
       "        <td id=\"T_0197d6d2_8dc1_11e7_a26f_c821588b3f07row3_col8\" class=\"data row3 col8\" >73.64</td> \n",
       "    </tr>    <tr> \n",
       "        <th id=\"T_0197d6d2_8dc1_11e7_a26f_c821588b3f07\" class=\"row_heading level0 row4\" >Ford High School</th> \n",
       "        <td id=\"T_0197d6d2_8dc1_11e7_a26f_c821588b3f07row4_col0\" class=\"data row4 col0\" >District</td> \n",
       "        <td id=\"T_0197d6d2_8dc1_11e7_a26f_c821588b3f07row4_col1\" class=\"data row4 col1\" >2739</td> \n",
       "        <td id=\"T_0197d6d2_8dc1_11e7_a26f_c821588b3f07row4_col2\" class=\"data row4 col2\" >$1,763,916.00</td> \n",
       "        <td id=\"T_0197d6d2_8dc1_11e7_a26f_c821588b3f07row4_col3\" class=\"data row4 col3\" >$644.00</td> \n",
       "        <td id=\"T_0197d6d2_8dc1_11e7_a26f_c821588b3f07row4_col4\" class=\"data row4 col4\" >77.1026</td> \n",
       "        <td id=\"T_0197d6d2_8dc1_11e7_a26f_c821588b3f07row4_col5\" class=\"data row4 col5\" >80.7463</td> \n",
       "        <td id=\"T_0197d6d2_8dc1_11e7_a26f_c821588b3f07row4_col6\" class=\"data row4 col6\" >68.3096</td> \n",
       "        <td id=\"T_0197d6d2_8dc1_11e7_a26f_c821588b3f07row4_col7\" class=\"data row4 col7\" >79.299</td> \n",
       "        <td id=\"T_0197d6d2_8dc1_11e7_a26f_c821588b3f07row4_col8\" class=\"data row4 col8\" >73.8043</td> \n",
       "    </tr></tbody> \n",
       "</table> "
      ],
      "text/plain": [
       "<pandas.io.formats.style.Styler at 0x2469b6eef28>"
      ]
     },
     "execution_count": 226,
     "metadata": {},
     "output_type": "execute_result"
    }
   ],
   "source": [
    "# Bottom 5 performing schools final report\n",
    "df_sorted_bottom_final = df_final.sort_values('% Overall Passing Rate', ascending=True).head()\n",
    "df_sorted_bottom_final.style.format({\"Total School Budget\": \"${:,.2f}\", \"Per Student Budget\": \"${:,.2f}\"})"
   ]
  },
  {
   "cell_type": "markdown",
   "metadata": {},
   "source": [
    "## Math Scores By Grade"
   ]
  },
  {
   "cell_type": "code",
   "execution_count": 227,
   "metadata": {
    "collapsed": true
   },
   "outputs": [],
   "source": [
    "# created a numeric field called level to sort the grade column correctly\n",
    "student_sorted_pd = pd.DataFrame(student_pd)\n",
    "level = pd.to_numeric(student_sorted_pd[\"grade\"].str.split(\"th\").str[0])\n",
    "student_sorted_pd[\"level\"] = level\n",
    "student_sorted_pd.sort_values([\"school\",\"level\",\"grade\"], ascending=True, inplace=True)"
   ]
  },
  {
   "cell_type": "code",
   "execution_count": 228,
   "metadata": {
    "collapsed": true,
    "scrolled": true
   },
   "outputs": [],
   "source": [
    "# calculated the average math score and inverse the columns\n",
    "student_math_df = student_sorted_pd.groupby(['school','level']).aggregate({'math_score': 'mean'}).unstack(level=1)"
   ]
  },
  {
   "cell_type": "code",
   "execution_count": 229,
   "metadata": {},
   "outputs": [
    {
     "data": {
      "text/html": [
       "<div>\n",
       "<style>\n",
       "    .dataframe thead tr:only-child th {\n",
       "        text-align: right;\n",
       "    }\n",
       "\n",
       "    .dataframe thead th {\n",
       "        text-align: left;\n",
       "    }\n",
       "\n",
       "    .dataframe tbody tr th {\n",
       "        vertical-align: top;\n",
       "    }\n",
       "</style>\n",
       "<table border=\"1\" class=\"dataframe\">\n",
       "  <thead>\n",
       "    <tr>\n",
       "      <th></th>\n",
       "      <th colspan=\"4\" halign=\"left\">Average Math Score</th>\n",
       "    </tr>\n",
       "    <tr>\n",
       "      <th></th>\n",
       "      <th>9th</th>\n",
       "      <th>10th</th>\n",
       "      <th>11th</th>\n",
       "      <th>12th</th>\n",
       "    </tr>\n",
       "    <tr>\n",
       "      <th>School Name</th>\n",
       "      <th></th>\n",
       "      <th></th>\n",
       "      <th></th>\n",
       "      <th></th>\n",
       "    </tr>\n",
       "  </thead>\n",
       "  <tbody>\n",
       "    <tr>\n",
       "      <th>Bailey High School</th>\n",
       "      <td>77.083676</td>\n",
       "      <td>76.996772</td>\n",
       "      <td>77.515588</td>\n",
       "      <td>76.492218</td>\n",
       "    </tr>\n",
       "    <tr>\n",
       "      <th>Cabrera High School</th>\n",
       "      <td>83.094697</td>\n",
       "      <td>83.154506</td>\n",
       "      <td>82.765560</td>\n",
       "      <td>83.277487</td>\n",
       "    </tr>\n",
       "    <tr>\n",
       "      <th>Figueroa High School</th>\n",
       "      <td>76.403037</td>\n",
       "      <td>76.539974</td>\n",
       "      <td>76.884344</td>\n",
       "      <td>77.151369</td>\n",
       "    </tr>\n",
       "    <tr>\n",
       "      <th>Ford High School</th>\n",
       "      <td>77.361345</td>\n",
       "      <td>77.672316</td>\n",
       "      <td>76.918058</td>\n",
       "      <td>76.179963</td>\n",
       "    </tr>\n",
       "    <tr>\n",
       "      <th>Griffin High School</th>\n",
       "      <td>82.044010</td>\n",
       "      <td>84.229064</td>\n",
       "      <td>83.842105</td>\n",
       "      <td>83.356164</td>\n",
       "    </tr>\n",
       "    <tr>\n",
       "      <th>Hernandez High School</th>\n",
       "      <td>77.438495</td>\n",
       "      <td>77.337408</td>\n",
       "      <td>77.136029</td>\n",
       "      <td>77.186567</td>\n",
       "    </tr>\n",
       "    <tr>\n",
       "      <th>Holden High School</th>\n",
       "      <td>83.787402</td>\n",
       "      <td>83.429825</td>\n",
       "      <td>85.000000</td>\n",
       "      <td>82.855422</td>\n",
       "    </tr>\n",
       "    <tr>\n",
       "      <th>Huang High School</th>\n",
       "      <td>77.027251</td>\n",
       "      <td>75.908735</td>\n",
       "      <td>76.446602</td>\n",
       "      <td>77.225641</td>\n",
       "    </tr>\n",
       "    <tr>\n",
       "      <th>Johnson High School</th>\n",
       "      <td>77.187857</td>\n",
       "      <td>76.691117</td>\n",
       "      <td>77.491653</td>\n",
       "      <td>76.863248</td>\n",
       "    </tr>\n",
       "    <tr>\n",
       "      <th>Pena High School</th>\n",
       "      <td>83.625455</td>\n",
       "      <td>83.372000</td>\n",
       "      <td>84.328125</td>\n",
       "      <td>84.121547</td>\n",
       "    </tr>\n",
       "    <tr>\n",
       "      <th>Rodriguez High School</th>\n",
       "      <td>76.859966</td>\n",
       "      <td>76.612500</td>\n",
       "      <td>76.395626</td>\n",
       "      <td>77.690748</td>\n",
       "    </tr>\n",
       "    <tr>\n",
       "      <th>Shelton High School</th>\n",
       "      <td>83.420755</td>\n",
       "      <td>82.917411</td>\n",
       "      <td>83.383495</td>\n",
       "      <td>83.778976</td>\n",
       "    </tr>\n",
       "    <tr>\n",
       "      <th>Thomas High School</th>\n",
       "      <td>83.590022</td>\n",
       "      <td>83.087886</td>\n",
       "      <td>83.498795</td>\n",
       "      <td>83.497041</td>\n",
       "    </tr>\n",
       "    <tr>\n",
       "      <th>Wilson High School</th>\n",
       "      <td>83.085578</td>\n",
       "      <td>83.724422</td>\n",
       "      <td>83.195326</td>\n",
       "      <td>83.035794</td>\n",
       "    </tr>\n",
       "    <tr>\n",
       "      <th>Wright High School</th>\n",
       "      <td>83.264706</td>\n",
       "      <td>84.010288</td>\n",
       "      <td>83.836782</td>\n",
       "      <td>83.644986</td>\n",
       "    </tr>\n",
       "  </tbody>\n",
       "</table>\n",
       "</div>"
      ],
      "text/plain": [
       "                      Average Math Score                                 \n",
       "                                     9th       10th       11th       12th\n",
       "School Name                                                              \n",
       "Bailey High School             77.083676  76.996772  77.515588  76.492218\n",
       "Cabrera High School            83.094697  83.154506  82.765560  83.277487\n",
       "Figueroa High School           76.403037  76.539974  76.884344  77.151369\n",
       "Ford High School               77.361345  77.672316  76.918058  76.179963\n",
       "Griffin High School            82.044010  84.229064  83.842105  83.356164\n",
       "Hernandez High School          77.438495  77.337408  77.136029  77.186567\n",
       "Holden High School             83.787402  83.429825  85.000000  82.855422\n",
       "Huang High School              77.027251  75.908735  76.446602  77.225641\n",
       "Johnson High School            77.187857  76.691117  77.491653  76.863248\n",
       "Pena High School               83.625455  83.372000  84.328125  84.121547\n",
       "Rodriguez High School          76.859966  76.612500  76.395626  77.690748\n",
       "Shelton High School            83.420755  82.917411  83.383495  83.778976\n",
       "Thomas High School             83.590022  83.087886  83.498795  83.497041\n",
       "Wilson High School             83.085578  83.724422  83.195326  83.035794\n",
       "Wright High School             83.264706  84.010288  83.836782  83.644986"
      ]
     },
     "execution_count": 229,
     "metadata": {},
     "output_type": "execute_result"
    }
   ],
   "source": [
    "# rename multi level column names Level 0 (math_score)\n",
    "student_math_df.columns.set_levels(['Average Math Score'], level=0, inplace=True)\n",
    "\n",
    "# rename multi level column names Level 1 (level) to an alphanumeric column name\n",
    "student_math_df.columns.set_levels(['9th','10th','11th','12th'], level=1, inplace=True)\n",
    "\n",
    "# rename rows index name\n",
    "student_math_df.index.names = ['School Name']\n",
    "\n",
    "# rename columns index name\n",
    "student_math_df.columns.names = ['','']\n",
    "student_math_df"
   ]
  },
  {
   "cell_type": "markdown",
   "metadata": {},
   "source": [
    "## Reading Scores by Grade"
   ]
  },
  {
   "cell_type": "code",
   "execution_count": 230,
   "metadata": {
    "collapsed": true
   },
   "outputs": [],
   "source": [
    "student_reading_df = student_sorted_pd.groupby(['school','level']).aggregate({'reading_score': 'mean'}).unstack(level=1)"
   ]
  },
  {
   "cell_type": "markdown",
   "metadata": {
    "collapsed": true
   },
   "source": [
    "##### rename multi level column names Level 0 (math_score)\n",
    "student_reading_df.columns.set_levels(['Average Reading Score'], level=0, inplace=True)\n",
    "\n",
    "# rename multi level column names Level 1 (level) to an alphanumeric column name\n",
    "student_reading_df.columns.set_levels(['9th','10th','11th','12th'], level=1, inplace=True)\n",
    "\n",
    "# rename rows index name\n",
    "student_reading_df.index.names = ['School Name']\n",
    "\n",
    "# rename columns index name\n",
    "student_reading_df.columns.names = ['','']\n",
    "student_reading_df"
   ]
  },
  {
   "cell_type": "markdown",
   "metadata": {},
   "source": [
    "## Scores by School Spending"
   ]
  },
  {
   "cell_type": "code",
   "execution_count": 231,
   "metadata": {
    "collapsed": true
   },
   "outputs": [],
   "source": [
    "# # use describe to find out 25%, 50%, 75%, max bins\n",
    "firstvalue = df_final['Per Student Budget'].describe().loc[\"25%\"]\n",
    "secondvalue = df_final['Per Student Budget'].describe().loc[\"50%\"]\n",
    "thirdvalue = df_final['Per Student Budget'].describe().loc[\"75%\"]\n",
    "fourthvalue = df_final['Per Student Budget'].describe().loc[\"max\"]\n",
    "\n",
    "# create row names\n",
    "firstbucket = \" < \" + locale.format(\"%d\", (firstvalue), grouping=False)\n",
    "secondbucket = locale.format(\"%d\", (firstvalue), grouping=False) + \" - \" + locale.format(\"%d\", (secondvalue), grouping=False)                             \n",
    "thirdbucket = locale.format(\"%d\", (secondvalue+1), grouping=False) + \" - \" + locale.format(\"%d\", (thirdvalue), grouping=False)\n",
    "fourthbucket = locale.format(\"%d\", (thirdvalue+1), grouping=False) + \" - \" + locale.format(\"%d\", (fourthvalue), grouping=False)\n"
   ]
  },
  {
   "cell_type": "code",
   "execution_count": 232,
   "metadata": {
    "collapsed": true
   },
   "outputs": [],
   "source": [
    "# copy data frame\n",
    "scoresBySpending_df = df_final.copy()"
   ]
  },
  {
   "cell_type": "code",
   "execution_count": 233,
   "metadata": {
    "collapsed": true
   },
   "outputs": [],
   "source": [
    "# assign a bucket number to each of the school\n",
    "scoresBySpending_df.loc[(scoresBySpending_df['Per Student Budget'] < firstvalue), 'Spending Ranges (per Student)'] = firstbucket\n",
    "scoresBySpending_df.loc[(scoresBySpending_df['Per Student Budget'] >= firstvalue) & (scoresBySpending_df['Per Student Budget'] <= secondvalue), 'Spending Ranges (per Student)'] = secondbucket\n",
    "scoresBySpending_df.loc[(scoresBySpending_df['Per Student Budget'] >= secondvalue+1) & (scoresBySpending_df['Per Student Budget'] <= thirdvalue), 'Spending Ranges (per Student)'] = thirdbucket\n",
    "scoresBySpending_df.loc[(scoresBySpending_df['Per Student Budget'] > thirdvalue), 'Spending Ranges (per Student)'] = fourthbucket"
   ]
  },
  {
   "cell_type": "code",
   "execution_count": 234,
   "metadata": {},
   "outputs": [
    {
     "data": {
      "text/html": [
       "<div>\n",
       "<style>\n",
       "    .dataframe thead tr:only-child th {\n",
       "        text-align: right;\n",
       "    }\n",
       "\n",
       "    .dataframe thead th {\n",
       "        text-align: left;\n",
       "    }\n",
       "\n",
       "    .dataframe tbody tr th {\n",
       "        vertical-align: top;\n",
       "    }\n",
       "</style>\n",
       "<table border=\"1\" class=\"dataframe\">\n",
       "  <thead>\n",
       "    <tr style=\"text-align: right;\">\n",
       "      <th></th>\n",
       "      <th>Average Math Score</th>\n",
       "      <th>Average Reading Score</th>\n",
       "      <th>% Passing Math</th>\n",
       "      <th>% Passing Reading</th>\n",
       "      <th>% Overall Passing Rate</th>\n",
       "    </tr>\n",
       "    <tr>\n",
       "      <th>Spending Ranges (per Student)</th>\n",
       "      <th></th>\n",
       "      <th></th>\n",
       "      <th></th>\n",
       "      <th></th>\n",
       "      <th></th>\n",
       "    </tr>\n",
       "  </thead>\n",
       "  <tbody>\n",
       "    <tr>\n",
       "      <th>&lt; 591</th>\n",
       "      <td>83.455399</td>\n",
       "      <td>83.933814</td>\n",
       "      <td>93.460096</td>\n",
       "      <td>96.610877</td>\n",
       "      <td>95.035486</td>\n",
       "    </tr>\n",
       "    <tr>\n",
       "      <th>591 - 628</th>\n",
       "      <td>81.899826</td>\n",
       "      <td>83.155286</td>\n",
       "      <td>87.133538</td>\n",
       "      <td>92.718205</td>\n",
       "      <td>89.925871</td>\n",
       "    </tr>\n",
       "    <tr>\n",
       "      <th>629 - 641</th>\n",
       "      <td>78.990942</td>\n",
       "      <td>81.917212</td>\n",
       "      <td>75.209078</td>\n",
       "      <td>86.089386</td>\n",
       "      <td>80.649232</td>\n",
       "    </tr>\n",
       "    <tr>\n",
       "      <th>642 - 655</th>\n",
       "      <td>77.023555</td>\n",
       "      <td>80.957446</td>\n",
       "      <td>66.701010</td>\n",
       "      <td>80.675217</td>\n",
       "      <td>73.688113</td>\n",
       "    </tr>\n",
       "  </tbody>\n",
       "</table>\n",
       "</div>"
      ],
      "text/plain": [
       "                               Average Math Score  Average Reading Score  \\\n",
       "Spending Ranges (per Student)                                              \n",
       " < 591                                  83.455399              83.933814   \n",
       "591 - 628                               81.899826              83.155286   \n",
       "629 - 641                               78.990942              81.917212   \n",
       "642 - 655                               77.023555              80.957446   \n",
       "\n",
       "                               % Passing Math  % Passing Reading  \\\n",
       "Spending Ranges (per Student)                                      \n",
       " < 591                              93.460096          96.610877   \n",
       "591 - 628                           87.133538          92.718205   \n",
       "629 - 641                           75.209078          86.089386   \n",
       "642 - 655                           66.701010          80.675217   \n",
       "\n",
       "                               % Overall Passing Rate  \n",
       "Spending Ranges (per Student)                          \n",
       " < 591                                      95.035486  \n",
       "591 - 628                                   89.925871  \n",
       "629 - 641                                   80.649232  \n",
       "642 - 655                                   73.688113  "
      ]
     },
     "execution_count": 234,
     "metadata": {},
     "output_type": "execute_result"
    }
   ],
   "source": [
    "# Group schools by budget per student \n",
    "scoresBySpending_df.groupby('Spending Ranges (per Student)').aggregate({\"Average Math Score\":\"mean\", \"Average Reading Score\":\"mean\", \"% Passing Math\":\"mean\",\"% Passing Reading\":\"mean\",\"% Overall Passing Rate\":\"mean\"})\n"
   ]
  },
  {
   "cell_type": "markdown",
   "metadata": {},
   "source": [
    "## Scores by School Size"
   ]
  },
  {
   "cell_type": "code",
   "execution_count": 235,
   "metadata": {
    "collapsed": true
   },
   "outputs": [],
   "source": [
    "# use describe to find out first(25%), seond(the difference of 50% and 75% plus 50%), third(max) bins\n",
    "firstvalue = df_final['Total Students'].describe().loc[\"25%\"]\n",
    "secondvalue = df_final['Total Students'].describe().loc[\"50%\"] + ((df_final['Total Students'].describe().loc[\"50%\"] - df_final['Per Student Budget'].describe().loc[\"75%\"]) / 2)\n",
    "thirdvalue = df_final['Total Students'].describe().loc[\"max\"]\n",
    "\n",
    "# create row names\n",
    "firstbucket = \"Small (<\" + locale.format(\"%d\", (firstvalue), grouping=False) + \")\"\n",
    "secondbucket = \"Medium (\" + locale.format(\"%d\", (firstvalue), grouping=False) + \"-\" + locale.format(\"%d\", (secondvalue), grouping=False) + \")\"                            \n",
    "thirdbucket = \"Large (\" + locale.format(\"%d\", (secondvalue+1), grouping=False) + \"-\" + locale.format(\"%d\", (thirdvalue), grouping=False) + \")\"\n"
   ]
  },
  {
   "cell_type": "code",
   "execution_count": 236,
   "metadata": {
    "collapsed": true
   },
   "outputs": [],
   "source": [
    "# copy data frame\n",
    "scoresBySize_df = df_final.copy()"
   ]
  },
  {
   "cell_type": "code",
   "execution_count": 237,
   "metadata": {
    "collapsed": true
   },
   "outputs": [],
   "source": [
    "# assign a bucket number to each of the school\n",
    "scoresBySize_df.loc[(scoresBySize_df['Total Students'] < firstvalue), 'School Bucket'] = 1\n",
    "scoresBySize_df.loc[(scoresBySize_df['Total Students'] >= firstvalue) & (scoresBySpending_df['Total Students'] <= secondvalue), 'School Bucket'] = 2\n",
    "scoresBySize_df.loc[(scoresBySize_df['Total Students'] >= secondvalue+1) & (scoresBySpending_df['Total Students'] <= thirdvalue), 'School Bucket'] = 3\n",
    "\n",
    "# list the string equivalent of the bucket\n",
    "scoresBySize_df.loc[(scoresBySize_df['School Bucket'] == 1), 'School Size'] = firstbucket\n",
    "scoresBySize_df.loc[(scoresBySize_df['School Bucket'] == 2), 'School Size'] = secondbucket\n",
    "scoresBySize_df.loc[(scoresBySize_df['School Bucket'] == 3), 'School Size'] = thirdbucket\n"
   ]
  },
  {
   "cell_type": "code",
   "execution_count": 238,
   "metadata": {},
   "outputs": [
    {
     "data": {
      "text/html": [
       "<div>\n",
       "<style>\n",
       "    .dataframe thead tr:only-child th {\n",
       "        text-align: right;\n",
       "    }\n",
       "\n",
       "    .dataframe thead th {\n",
       "        text-align: left;\n",
       "    }\n",
       "\n",
       "    .dataframe tbody tr th {\n",
       "        vertical-align: top;\n",
       "    }\n",
       "</style>\n",
       "<table border=\"1\" class=\"dataframe\">\n",
       "  <thead>\n",
       "    <tr style=\"text-align: right;\">\n",
       "      <th></th>\n",
       "      <th>Average Math Score</th>\n",
       "      <th>Average Reading Score</th>\n",
       "      <th>% Passing Math</th>\n",
       "      <th>% Passing Reading</th>\n",
       "      <th>% Overall Passing Rate</th>\n",
       "    </tr>\n",
       "  </thead>\n",
       "  <tbody>\n",
       "    <tr>\n",
       "      <th>Small (&lt;1698)</th>\n",
       "      <td>83.603261</td>\n",
       "      <td>83.881343</td>\n",
       "      <td>93.441248</td>\n",
       "      <td>96.661677</td>\n",
       "      <td>95.051462</td>\n",
       "    </tr>\n",
       "    <tr>\n",
       "      <th>Medium (1698-3103)</th>\n",
       "      <td>80.545935</td>\n",
       "      <td>82.676142</td>\n",
       "      <td>82.169092</td>\n",
       "      <td>89.628554</td>\n",
       "      <td>85.898823</td>\n",
       "    </tr>\n",
       "    <tr>\n",
       "      <th>Large (3104-4976)</th>\n",
       "      <td>77.063340</td>\n",
       "      <td>80.919864</td>\n",
       "      <td>66.464293</td>\n",
       "      <td>81.059691</td>\n",
       "      <td>73.761992</td>\n",
       "    </tr>\n",
       "  </tbody>\n",
       "</table>\n",
       "</div>"
      ],
      "text/plain": [
       "                    Average Math Score  Average Reading Score  % Passing Math  \\\n",
       "Small (<1698)                83.603261              83.881343       93.441248   \n",
       "Medium (1698-3103)           80.545935              82.676142       82.169092   \n",
       "Large (3104-4976)            77.063340              80.919864       66.464293   \n",
       "\n",
       "                    % Passing Reading  % Overall Passing Rate  \n",
       "Small (<1698)               96.661677               95.051462  \n",
       "Medium (1698-3103)          89.628554               85.898823  \n",
       "Large (3104-4976)           81.059691               73.761992  "
      ]
     },
     "execution_count": 238,
     "metadata": {},
     "output_type": "execute_result"
    }
   ],
   "source": [
    "# create a data frame with the row index order\n",
    "index = [firstbucket,secondbucket,thirdbucket]\n",
    "BySize_created_df = pd.DataFrame(index=index)\n",
    "\n",
    "# Average Math column\n",
    "selected = scoresBySize_df.groupby('School Size')['Average Math Score'].mean()\n",
    "BySize_created_df ['Average Math Score'] = selected\n",
    "# Average Reading column\n",
    "selected = scoresBySize_df.groupby('School Size')['Average Reading Score'].mean()\n",
    "BySize_created_df ['Average Reading Score'] = selected\n",
    "# % Passing Math\n",
    "selected = scoresBySize_df.groupby('School Size')['% Passing Math'].mean()\n",
    "BySize_created_df ['% Passing Math'] = selected\n",
    "# % Passing Reading\n",
    "selected = scoresBySize_df.groupby('School Size')['% Passing Reading'].mean()\n",
    "BySize_created_df ['% Passing Reading'] = selected\n",
    "# % Overall Passing Rate\n",
    "selected = scoresBySize_df.groupby('School Size')['% Overall Passing Rate'].mean()\n",
    "BySize_created_df ['% Overall Passing Rate'] = selected\n",
    "\n",
    "BySize_created_df"
   ]
  },
  {
   "cell_type": "markdown",
   "metadata": {},
   "source": [
    "## Scores by School Type"
   ]
  },
  {
   "cell_type": "code",
   "execution_count": 239,
   "metadata": {
    "collapsed": true
   },
   "outputs": [],
   "source": [
    "# copy data frame\n",
    "scoresByType_df = df_final.copy()"
   ]
  },
  {
   "cell_type": "code",
   "execution_count": 240,
   "metadata": {},
   "outputs": [
    {
     "data": {
      "text/html": [
       "<div>\n",
       "<style>\n",
       "    .dataframe thead tr:only-child th {\n",
       "        text-align: right;\n",
       "    }\n",
       "\n",
       "    .dataframe thead th {\n",
       "        text-align: left;\n",
       "    }\n",
       "\n",
       "    .dataframe tbody tr th {\n",
       "        vertical-align: top;\n",
       "    }\n",
       "</style>\n",
       "<table border=\"1\" class=\"dataframe\">\n",
       "  <thead>\n",
       "    <tr style=\"text-align: right;\">\n",
       "      <th></th>\n",
       "      <th>Average Math Score</th>\n",
       "      <th>Average Reading Score</th>\n",
       "      <th>% Passing Math</th>\n",
       "      <th>% Passing Reading</th>\n",
       "      <th>% Overall Passing Rate</th>\n",
       "    </tr>\n",
       "    <tr>\n",
       "      <th>School Type</th>\n",
       "      <th></th>\n",
       "      <th></th>\n",
       "      <th></th>\n",
       "      <th></th>\n",
       "      <th></th>\n",
       "    </tr>\n",
       "  </thead>\n",
       "  <tbody>\n",
       "    <tr>\n",
       "      <th>Charter</th>\n",
       "      <td>83.473852</td>\n",
       "      <td>83.896421</td>\n",
       "      <td>93.620830</td>\n",
       "      <td>96.586489</td>\n",
       "      <td>95.103660</td>\n",
       "    </tr>\n",
       "    <tr>\n",
       "      <th>District</th>\n",
       "      <td>76.956733</td>\n",
       "      <td>80.966636</td>\n",
       "      <td>66.548453</td>\n",
       "      <td>80.799062</td>\n",
       "      <td>73.673757</td>\n",
       "    </tr>\n",
       "  </tbody>\n",
       "</table>\n",
       "</div>"
      ],
      "text/plain": [
       "             Average Math Score  Average Reading Score  % Passing Math  \\\n",
       "School Type                                                              \n",
       "Charter               83.473852              83.896421       93.620830   \n",
       "District              76.956733              80.966636       66.548453   \n",
       "\n",
       "             % Passing Reading  % Overall Passing Rate  \n",
       "School Type                                             \n",
       "Charter              96.586489               95.103660  \n",
       "District             80.799062               73.673757  "
      ]
     },
     "execution_count": 240,
     "metadata": {},
     "output_type": "execute_result"
    }
   ],
   "source": [
    "# Group schools by student population\n",
    "scoresByType_df.groupby('School Type').aggregate({\"Average Math Score\":\"mean\", \"Average Reading Score\":\"mean\", \"% Passing Math\":\"mean\",\"% Passing Reading\":\"mean\",\"% Overall Passing Rate\":\"mean\"})\n"
   ]
  }
 ],
 "metadata": {
  "kernelspec": {
   "display_name": "Python [conda env:PythonData]",
   "language": "python",
   "name": "conda-env-PythonData-py"
  },
  "language_info": {
   "codemirror_mode": {
    "name": "ipython",
    "version": 3
   },
   "file_extension": ".py",
   "mimetype": "text/x-python",
   "name": "python",
   "nbconvert_exporter": "python",
   "pygments_lexer": "ipython3",
   "version": "3.6.1"
  }
 },
 "nbformat": 4,
 "nbformat_minor": 2
}
